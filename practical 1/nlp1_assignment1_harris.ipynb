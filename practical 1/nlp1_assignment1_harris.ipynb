{
 "cells": [
  {
   "cell_type": "markdown",
   "metadata": {},
   "source": [
    "# Assignment 1\n",
    "\n",
    "This exercise is meant to help you get familiar with some language data. \n",
    "\n",
    "The corpus used is the **Penn Treebank**, which is a collection of data from the newspaper \n",
    "The Wall Street Journal. The exercise will not take more than a few lines of code; the idea is to examine the data, and notice interesting properties.\n",
    "\n",
    "## Required software\n",
    "\n",
    "### Easy installation\n",
    "\n",
    "The easiest way to get the required software is to install Anaconda. See https://www.continuum.io/downloads . It contains all required packages, including python and jupyter. You can choose python 2.7 or 3.5.\n",
    "\n",
    "### Manual installation\n",
    "\n",
    "Make sure that you have `numpy` and `matplotlib` installed. If you don't, you can use e.g. `pip install <package> --user` (python2) or `pip3 install <package> --user` (python3).\n",
    "\n",
    "## Submission\n",
    "We will grade your assignments with pass/fail/good, so don't forget to hand them in! \n",
    "Choose `File->Download as->HTML` and check if the HTML-file contains all your answers. You can work and submit in pairs. Please e-mail your TA with `\"[NLP1] Assignment 1\"` as the subject. \n",
    "**The deadline for submission is Sunday 6 nov 23:59.**\n",
    "\n",
    "## Start the notebook\n",
    "\n",
    "Start a terminal, and `cd` into the directory where you saved the notebook. Then type `jupyter notebook`. Your web browser will open."
   ]
  },
  {
   "cell_type": "markdown",
   "metadata": {},
   "source": [
    "## Exercise 1.1"
   ]
  },
  {
   "cell_type": "markdown",
   "metadata": {},
   "source": [
    "You are provided with a corpus containing words and their Part-of-speech tags in the format is\n",
    "**word|POS** (one sentence per line) (file name : **sec02-21.gold.tagged**). This data is extracted from Sections 02-21 from the Penn Treebank: these sections are most commonly used for training statistical models (like POS-taggers and parsers)."
   ]
  },
  {
   "cell_type": "code",
   "execution_count": 116,
   "metadata": {
    "collapsed": false
   },
   "outputs": [],
   "source": [
    "%matplotlib inline\n",
    "import matplotlib\n",
    "import numpy as np\n",
    "import matplotlib.pyplot as plt\n",
    "import re"
   ]
  },
  {
   "cell_type": "code",
   "execution_count": 129,
   "metadata": {
    "collapsed": false
   },
   "outputs": [],
   "source": [
    "def populate_dicts(filename,tolower=False,nonalphanum=False):\n",
    "    #Define a dictionary to store the tokens. the key is the token and the value is the occurence of it\n",
    "    tokens = {}\n",
    "    #Define a dictionary to store the POS.  the key is the POS and the value is the occurence of POS key\n",
    "    pos_tags = {}\n",
    "    #Define a dictionary to store the tokens and pos. The key is the word|POS and the value is the occurence of words|POS \n",
    "    tokens_pos = {}\n",
    "    #Start parsing the file\n",
    "    with open(filename,'r') as f:\n",
    "        #line-by-line parsing\n",
    "        for line in f:\n",
    "            #split with one or more spaces\n",
    "            linetoken = re.split('\\s+',line)\n",
    "            for token in linetoken:\n",
    "                token = token.strip() # Strip spaces since it's the same token. Can happen while tokenizing.\n",
    "                if(tolower): \n",
    "                    token = token.lower()\n",
    "                    #We can also lowercase our words.This decreases the corpus by around ~ 5000 words.\n",
    "                word_pos_tup = re.split('\\|',token)\n",
    "                if len(token) < 2:\n",
    "                    continue  #End of line \\n causes that  so skip it.\n",
    "                # We can also strip tokens of non alphanumerical characters to reduce again.\n",
    "                if (nonalphanum):\n",
    "                    word_pos_tup[0] = re.sub(r'\\W+', '', word_pos_tup[0])\n",
    "                if len(word_pos_tup) < 2:\n",
    "                    continue # This might happen in the breakline/remove alphanumeric tokenization .\n",
    "                \n",
    "                #POS should be uppercase.\n",
    "                word_pos_tup[1] = word_pos_tup[1].upper()\n",
    "                                \n",
    "                #Put key-value store for token_key = (POS,word)\n",
    "                tup_key = (word_pos_tup[0],word_pos_tup[1])\n",
    "                \n",
    "                # check if we already have the POS elsewise increase it's occurence\n",
    "                if word_pos_tup[1] in pos_tags:\n",
    "                    pos_tags[word_pos_tup[1]] = pos_tags[word_pos_tup[1]] + 1\n",
    "                else:\n",
    "                    pos_tags[word_pos_tup[1]] = 1\n",
    "                # check if we have the word key else wise increase it's occurence and add it's POS.\n",
    "                # this might actually be a bit unecessary since it will only add it's last pos.\n",
    "                if word_pos_tup[0] in tokens:\n",
    "                    tokens[word_pos_tup[0]] = (word_pos_tup[1],tokens[word_pos_tup[0]][1] + 1)\n",
    "                else:\n",
    "                    tokens[word_pos_tup[0]] = (word_pos_tup[1],1)\n",
    "                    \n",
    "                # check if we already have the (word,POS) elsewise icnrease it's occurence\n",
    "                if tup_key in tokens_pos:\n",
    "                    tokens_pos[tup_key] = tokens_pos[tup_key] + 1\n",
    "                else:\n",
    "                    tokens_pos[tup_key] = 1\n",
    "    return tokens,pos_tags,tokens_pos\n",
    "\n",
    "\n",
    "def occurence(index,word,count):\n",
    "    print '{0:10} ranked corpus word:{1:20} occurences:{2:10}'.format(index,word,count)\n",
    "    \n",
    "    \n",
    "def parse_sentences(filename,sentenceIndx = 2,lower=False,nonalphanum=False):\n",
    "    ''' Parse a sentence in the given file. We know in \n",
    "    our format that a sentence finishes when there is a .|. token.\n",
    "    Since the file is small we can load the whole contents into a String and tokenize\n",
    "        Input:\n",
    "                filename the file to parse sentences\n",
    "                sentenceIndx the number o sentences we want to parse (Default 2)\n",
    "                lower flag to lowercase our sentences. (only used if the same applies to our dictionary)\n",
    "                nonalphanum flag to remove any non alphanumeric characters from tokens.\n",
    "        Output:\n",
    "                a list of sentences. Each sentence is a list of words.\n",
    "    '''\n",
    "    count = 0\n",
    "    words = []\n",
    "    sentences = []\n",
    "    with open(filename,'r') as f:\n",
    "        contents = f.read()\n",
    "        sentences_to_tokenize = contents.split('.|.')\n",
    "        for i,line  in enumerate(sentences_to_tokenize):\n",
    "            if(lower):\n",
    "                line = line.lower()\n",
    "            word_pos = re.split('\\s+',line)\n",
    "            for word in word_pos:\n",
    "                token = re.split('\\|',word)[0].strip()\n",
    "                if nonalphanum:\n",
    "                    token = re.sub(r'\\W+', '', token)\n",
    "                if len(token)< 1:\n",
    "                    continue\n",
    "                words.append(token)\n",
    "            count = count + 1\n",
    "            sentences.append(words)\n",
    "            words = []\n",
    "            if count == sentenceIndx:\n",
    "                break\n",
    "    return sentences\n",
    "\n",
    "\n",
    "def get_multiple_POS(word_pos,verbose=True):\n",
    "    '''Function to return words with combination of POS in the text.\n",
    "        Input:  \n",
    "                word_pos the dictionary with (word,POS) keys.\n",
    "                verbose  if we want to print them\n",
    "        Output: \n",
    "                multiple_pos a dictionary with word as key and pos combinations counter value\n",
    "        '''\n",
    "    multiple_pos = {}\n",
    "    from collections import Counter\n",
    "    from  pprint  import pprint\n",
    "\n",
    "    word_pos_keys = word_pos.keys()\n",
    "    keys  = [x[0] for x in word_pos_keys]\n",
    "    # print keys\n",
    "    pos_tags   = [x[1] for x in word_pos_keys]\n",
    "    cnt = Counter(keys)\n",
    "    for i,value in enumerate(cnt.iteritems()):\n",
    "        if value[1] > 1:\n",
    "            if verbose:\n",
    "                print \"word: {0:20} POS-combinations: {1}\".format(value[0],value[1])\n",
    "            multiple_pos[value[0]] = value[1]\n",
    "    return multiple_pos\n",
    "\n",
    "def get_probabilities(sentence,tokens,verbose=True,laplace=True):\n",
    "    '''\n",
    "        Function to return probabilities of a sentence (unigram wise).\n",
    "        Input:\n",
    "                sentence a list of words contained in a sentence\n",
    "                verbose flag if we want to print the probabilities\n",
    "                laplace flag if we want to apply laplace smoothing\n",
    "        Output:\n",
    "                a numpy array with the probabilities of the words.\n",
    "    '''\n",
    "    vocab_size = len(tokens.keys())\n",
    "    occurences = [x[1] for x in tokens.values()]\n",
    "    total = sum(occurences)\n",
    "    pw = np.zeros(len(sentence))\n",
    "    for n,word in enumerate(sentence):\n",
    "        \n",
    "        if not word in tokens.keys():\n",
    "            continue\n",
    "        if laplace:\n",
    "            #We also apply laplace smoothing which is actually unecessary since our tokens have been extracted \n",
    "            pw[n] = float(tokens[word][1]+1)/(total+vocab_size)\n",
    "        else:\n",
    "            pw[n] = float(tokens[word][1]/total)\n",
    "        # from the corpus therefore there are sure to exist.\n",
    "        if verbose:\n",
    "            print 'w_%u\\t:\\tP(w_%d)\\t:\\t%.15f\\tword:%s'%(n,n,pw[n],word)\n",
    "    return pw\n",
    "def plot_freq_rank(tokens,length=None):\n",
    "    '''Plot log frequency/rank of words graph\n",
    "        Input:\n",
    "                tokens the words and occurences dictionary.\n",
    "                Length if given it will print the occurences until this length of most frequent keys.\n",
    "        Output: \n",
    "                sorted_tokens a words/occurences list of tuples. (key,(POS,count)) format.\n",
    "        '''\n",
    "\n",
    "    #Because dictionaries are unordered ,this gets as input the dictionary and returns it as a list of tuples,ordered\n",
    "    #by the rightmost element of the rightmost primary element. The format of this is (key,(POS,count)) therefore we order\n",
    "    #by count\n",
    "    if length:\n",
    "        sorted_tokens = sorted(tokens.items(), key=lambda x:x[1][1],reverse=True)[0:length]\n",
    "    else:\n",
    "        sorted_tokens = sorted(tokens.items(), key=lambda x:x[1][1],reverse=True)\n",
    "    keys = [x[0] for x in sorted_tokens]\n",
    "    occurences = [x[1][1] for x in sorted_tokens]\n",
    "    fig,ax = plt.subplots()\n",
    "    ax.set_ylabel('Log-Frequency',fontsize=20)\n",
    "    ax.set_xlabel('Rank',fontsize= 20)\n",
    "    x = range(len(sorted_tokens))\n",
    "    fig.set_size_inches(20, 15)\n",
    "    #plt.bar(x, np.log(occurences),width=1,edgecolor='k',align='center')\n",
    "    plt.plot(x,np.log(occurences))\n",
    "#     plt.plot(x,np.log(occurences),'ro',markersize=5)\n",
    "    if len(sorted_tokens) <=100:\n",
    "        plt.xticks(x,keys,fontsize=15,rotation='vertical')\n",
    "    return sorted_tokens\n"
   ]
  },
  {
   "cell_type": "markdown",
   "metadata": {},
   "source": [
    "(a) What are the total number of words (tokens) in this corpus? \n",
    "What is the number of distinct word types?\n"
   ]
  },
  {
   "cell_type": "markdown",
   "metadata": {},
   "source": [
    "### Answer (a):"
   ]
  },
  {
   "cell_type": "code",
   "execution_count": 130,
   "metadata": {
    "collapsed": false
   },
   "outputs": [
    {
     "name": "stdout",
     "output_type": "stream",
     "text": [
      "Distinct number of tokens in corpus: 44210\n",
      "Total number of all tokens: 45422\n"
     ]
    }
   ],
   "source": [
    "filename1 = 'sec02-21.gold.tagged'\n",
    "tokens,pos,word_pos = populate_dicts(filename1)\n",
    "print 'Distinct number of tokens in corpus:',len(tokens.keys())\n",
    "occurences = [x[1] for x in tokens.values()]\n",
    "dev_total = sum(occurences)\n",
    "print 'Total number of all tokens:',total\n"
   ]
  },
  {
   "cell_type": "markdown",
   "metadata": {},
   "source": [
    "(b) Plot a graph of word frequency versus rank of a word, in this corpus. Does this corpus obey Zipf’s law?"
   ]
  },
  {
   "cell_type": "code",
   "execution_count": 131,
   "metadata": {
    "collapsed": false
   },
   "outputs": [
    {
     "data": {
      "image/png": "[encoded data removed]",
      "text/plain": [
       "<matplotlib.figure.Figure at 0x7f8cdb84e110>"
      ]
     },
     "metadata": {},
     "output_type": "display_data"
    }
   ],
   "source": [
    "#### PLOT HERE####\n",
    "sorted_by_freq = plot_freq_rank(tokens,length=None)"
   ]
  },
  {
   "cell_type": "markdown",
   "metadata": {},
   "source": [
    "(c) What is the 25th most common word in the corpus? How many times does it occur? What about the 50th most common word, the 100th and the 1000th?"
   ]
  },
  {
   "cell_type": "code",
   "execution_count": 132,
   "metadata": {
    "collapsed": false
   },
   "outputs": [
    {
     "name": "stdout",
     "output_type": "stream",
     "text": [
      "        25 ranked corpus word:Mr.                  occurences:      4147\n",
      "        50 ranked corpus word:had                  occurences:      1755\n",
      "       100 ranked corpus word:A                    occurences:       860\n"
     ]
    }
   ],
   "source": [
    "\n",
    "index = 25\n",
    "occurence(index,sorted_by_freq[index-1][0],sorted_by_freq[index-1][1][1])\n",
    "index = 50\n",
    "occurence(index,sorted_by_freq[index-1][0],sorted_by_freq[index-1][1][1])\n",
    "index = 100\n",
    "occurence(index,sorted_by_freq[index-1][0],sorted_by_freq[index-1][1][1])"
   ]
  },
  {
   "cell_type": "markdown",
   "metadata": {},
   "source": [
    "(d) How many different Part-of-speech tags are present in the corpus?"
   ]
  },
  {
   "cell_type": "code",
   "execution_count": 133,
   "metadata": {
    "collapsed": false
   },
   "outputs": [
    {
     "name": "stdout",
     "output_type": "stream",
     "text": [
      "Answer(d):\n",
      "Distinct number of POS in corpus: 48\n"
     ]
    }
   ],
   "source": [
    "print('Answer(d):')\n",
    "print 'Distinct number of POS in corpus:',len(pos.keys())"
   ]
  },
  {
   "cell_type": "markdown",
   "metadata": {},
   "source": [
    "(e) Print a list of the 10 most common part-of-speech tags. Spend a few minutes trying to guess what each tag means, by looking at associated words."
   ]
  },
  {
   "cell_type": "code",
   "execution_count": 134,
   "metadata": {
    "collapsed": false
   },
   "outputs": [
    {
     "name": "stdout",
     "output_type": "stream",
     "text": [
      "1\t frequent POS:\tNN\tCount:132134\n",
      "2\t frequent POS:\tIN\tCount:99413\n",
      "3\t frequent POS:\tNNP\tCount:90711\n",
      "4\t frequent POS:\tDT\tCount:82147\n",
      "5\t frequent POS:\tJJ\tCount:59643\n",
      "6\t frequent POS:\tNNS\tCount:59332\n",
      "7\t frequent POS:\t,\tCount:48314\n",
      "8\t frequent POS:\t.\tCount:39252\n",
      "9\t frequent POS:\tCD\tCount:36148\n",
      "10\t frequent POS:\tRB\tCount:30232\n"
     ]
    }
   ],
   "source": [
    "sorted_pos = sorted(pos.items(), key=lambda x:x[1],reverse=True)\n",
    "\n",
    "for i in range(10):\n",
    "    print '%u\\t frequent POS:\\t%s\\tCount:%u'%(i+1,sorted_pos[i][0],sorted_pos[i][1])"
   ]
  },
  {
   "cell_type": "markdown",
   "metadata": {},
   "source": [
    "# Rest of answer for (e):\n",
    "## These are taken from Penn Treenbank's Alphabetical list of part-of-speech tags Project\n",
    "### <href a=\"https://www.ling.upenn.edu/courses/Fall_2003/ling001/penn_treebank_pos.html\">https://www.ling.upenn.edu/courses/Fall_2003/ling001/penn_treebank_pos.html</href>\n",
    "1.  NN   Noun, singular or mass \n",
    "2.  IN \tPreposition or subordinating conjunction\n",
    "3.  NNP \tProper noun, singular \n",
    "4.  DT \tDeterminer \n",
    "5.  JJ   Adjective\n",
    "6.  NNS  Noun, plural \n",
    "7.  ','  Not a POS really , It's punctuation\n",
    "8.  '.'  Not a POS really , It's punctuation\n",
    "9.  CD   Cardinal number \n",
    "10. RB   Adverb"
   ]
  },
  {
   "cell_type": "markdown",
   "metadata": {},
   "source": [
    "(f) Assume that the probability $P(w_1^n)$ of a sentence $w_1 \\ldots w_n$   can be calculated as follows:\n",
    "\n",
    "$$P(w_1^n) = P(w_1) \\cdot P(w_2) \\ldots P(w_n) $$\n",
    "\n",
    "The probability of a word $w_i$ can be calculated from a corpus as \n",
    "$$P(w_i) = \\frac{count (w_i)}{N}$$ where $N$ is the total number of word tokens in the corpus. \n",
    "\n",
    "What is the probability of the first two sentences in the corpus? "
   ]
  },
  {
   "cell_type": "code",
   "execution_count": 140,
   "metadata": {
    "collapsed": false
   },
   "outputs": [
    {
     "name": "stdout",
     "output_type": "stream",
     "text": [
      "========= First sentence =============\n",
      "In an Oct. 19 review of The Misanthrope at Chicago 's Goodman Theatre -LRB- Revitalized Classics Take the Stage in Windy City , Leisure & Arts -RRB- , the role of Celimene , played by Kim Cattrall , was mistakenly attributed to Christina Haag\n",
      "w_0\t:\tP(w_0)\t:\t0.001781749544550\tword:In\n",
      "w_1\t:\tP(w_1)\t:\t0.003211256960120\tword:an\n",
      "w_2\t:\tP(w_2)\t:\t0.000325541559436\tword:Oct.\n",
      "w_3\t:\tP(w_3)\t:\t0.000103721443227\tword:19\n",
      "w_4\t:\tP(w_4)\t:\t0.000059562808982\tword:review\n",
      "w_5\t:\tP(w_5)\t:\t0.023396887535147\tword:of\n",
      "w_6\t:\tP(w_6)\t:\t0.006975010320797\tword:The\n",
      "w_7\t:\tP(w_7)\t:\t0.000004107779930\tword:Misanthrope\n",
      "w_8\t:\tP(w_8)\t:\t0.004430240654287\tword:at\n",
      "w_9\t:\tP(w_9)\t:\t0.000202308161543\tword:Chicago\n",
      "w_10\t:\tP(w_10)\t:\t0.009499241087658\tword:'s\n",
      "w_11\t:\tP(w_11)\t:\t0.000008215559860\tword:Goodman\n",
      "w_12\t:\tP(w_12)\t:\t0.000006161669895\tword:Theatre\n",
      "w_13\t:\tP(w_13)\t:\t0.001171744224975\tword:-LRB-\n",
      "w_14\t:\tP(w_14)\t:\t0.000002053889965\tword:Revitalized\n",
      "w_15\t:\tP(w_15)\t:\t0.000002053889965\tword:Classics\n",
      "w_16\t:\tP(w_16)\t:\t0.000010269449824\tword:Take\n",
      "w_17\t:\tP(w_17)\t:\t0.041940433083238\tword:the\n",
      "w_18\t:\tP(w_18)\t:\t0.000004107779930\tword:Stage\n",
      "w_19\t:\tP(w_19)\t:\t0.015492492005233\tword:in\n",
      "w_20\t:\tP(w_20)\t:\t0.000002053889965\tword:Windy\n",
      "w_21\t:\tP(w_21)\t:\t0.000142745352560\tword:City\n",
      "w_22\t:\tP(w_22)\t:\t0.049612739047118\tword:,\n",
      "w_23\t:\tP(w_23)\t:\t0.000004107779930\tword:Leisure\n",
      "w_24\t:\tP(w_24)\t:\t0.001045429992134\tword:&\n",
      "w_25\t:\tP(w_25)\t:\t0.000009242504842\tword:Arts\n",
      "w_26\t:\tP(w_26)\t:\t0.001179959784834\tword:-RRB-\n",
      "w_27\t:\tP(w_27)\t:\t0.049612739047118\tword:,\n",
      "w_28\t:\tP(w_28)\t:\t0.041940433083238\tword:the\n",
      "w_29\t:\tP(w_29)\t:\t0.000129395067789\tword:role\n",
      "w_30\t:\tP(w_30)\t:\t0.023396887535147\tword:of\n",
      "w_31\t:\tP(w_31)\t:\t0.000005134724912\tword:Celimene\n",
      "w_32\t:\tP(w_32)\t:\t0.049612739047118\tword:,\n",
      "w_33\t:\tP(w_33)\t:\t0.000055455029052\tword:played\n",
      "w_34\t:\tP(w_34)\t:\t0.004570932116883\tword:by\n",
      "w_35\t:\tP(w_35)\t:\t0.000008215559860\tword:Kim\n",
      "w_36\t:\tP(w_36)\t:\t0.000002053889965\tword:Cattrall\n",
      "w_37\t:\tP(w_37)\t:\t0.049612739047118\tword:,\n",
      "w_38\t:\tP(w_38)\t:\t0.003980438751974\tword:was\n",
      "w_39\t:\tP(w_39)\t:\t0.000007188614877\tword:mistakenly\n",
      "w_40\t:\tP(w_40)\t:\t0.000068805313824\tword:attributed\n",
      "w_41\t:\tP(w_41)\t:\t0.022651325477889\tword:to\n",
      "w_42\t:\tP(w_42)\t:\t0.000003080834947\tword:Christina\n",
      "w_43\t:\tP(w_43)\t:\t0.000004107779930\tword:Haag\n",
      "========= Second sentence =============\n",
      "Ms. Haag plays Elianti\n",
      "w_0\t:\tP(w_0)\t:\t0.000235170400981\tword:Ms.\n",
      "w_1\t:\tP(w_1)\t:\t0.000004107779930\tword:Haag\n",
      "w_2\t:\tP(w_2)\t:\t0.000025673624561\tword:plays\n",
      "w_3\t:\tP(w_3)\t:\t0.000002053889965\tword:Elianti\n",
      "First Sentence Joint probability : 5.897490011972403e-158\n",
      "Second Sentence Joint probability: 5.093944246957278e-20\n"
     ]
    }
   ],
   "source": [
    "two_sentences = parse_sentences(filename1)\n",
    "print '========= First sentence ============='\n",
    "print ' '.join(two_sentences[0])\n",
    "pw_sent1 = get_probabilities(two_sentences[0],tokens)\n",
    "print '========= Second sentence ============='\n",
    "print ' '.join(two_sentences[1])\n",
    "pw_sent2 = get_probabilities(two_sentences[1],tokens)\n",
    "print 'First Sentence Joint probability : %.15e'%(np.prod(pw_sent1))\n",
    "print 'Second Sentence Joint probability: %.15e'%(np.prod(pw_sent2))\n"
   ]
  },
  {
   "cell_type": "markdown",
   "metadata": {},
   "source": [
    "(g) A word may have several part-of-speech tags, for example the word 'record' can be a noun or a verb. How many words do have more than one POS tag? What are the 10 most frequent combinations of POS tags?"
   ]
  },
  {
   "cell_type": "code",
   "execution_count": 137,
   "metadata": {
    "collapsed": false
   },
   "outputs": [
    {
     "name": "stdout",
     "output_type": "stream",
     "text": [
      "Answer(g):\n",
      "============= Multiple POS words==========\n",
      "Multiple POS combination words: 5955\n"
     ]
    }
   ],
   "source": [
    "print 'Answer(g):'\n",
    "print '============= Multiple POS words=========='\n",
    "#We put verbose false to avoid the really large print.\n",
    "multiple_pos = get_multiple_POS(word_pos,verbose=False)\n",
    "print 'Multiple POS combination words:',len(multiple_pos.keys())"
   ]
  },
  {
   "cell_type": "markdown",
   "metadata": {},
   "source": [
    "## Exercise 1.2"
   ]
  },
  {
   "cell_type": "markdown",
   "metadata": {},
   "source": [
    "You are also provided with another file called **sec00.gold.tagged**. \n",
    "Section 00 of the Penn Treebank is typically used as development data."
   ]
  },
  {
   "cell_type": "markdown",
   "metadata": {},
   "source": [
    "(a) How many unseen words are present in the development data (i.e., words that have not occurred in the training data)?"
   ]
  },
  {
   "cell_type": "code",
   "execution_count": 138,
   "metadata": {
    "collapsed": false
   },
   "outputs": [
    {
     "name": "stdout",
     "output_type": "stream",
     "text": [
      "Answer(a):\n",
      "Distinct number of tokens in corpus: 7878\n",
      "Total number of all tokens: 45422\n",
      "Unseen words in sec00.gold.tagged: 1288\n"
     ]
    }
   ],
   "source": [
    "filename2 = 'sec00.gold.tagged'\n",
    "dev_tokens,_,dev_pos = populate_dicts(filename2)\n",
    "print 'Answer(a):'\n",
    "print 'Distinct number of tokens in corpus:',len(dev_tokens.keys())\n",
    "num_dev_tokens = [x[1] for x in dev_tokens.values()]\n",
    "\n",
    "total = sum(num_dev_tokens)\n",
    "print 'Total number of all tokens:',total\n",
    "#Get the NOT intersection of the 2 dictionary key sets.\n",
    "unseen = list(set(dev_tokens.keys()) - set(tokens.keys()))\n",
    "print 'Unseen words in '+filename2+\":\",len(unseen)\n"
   ]
  },
  {
   "cell_type": "markdown",
   "metadata": {},
   "source": [
    "(b) What are the three most common kind of unseen word (their POS tags)?"
   ]
  },
  {
   "cell_type": "code",
   "execution_count": 139,
   "metadata": {
    "collapsed": false
   },
   "outputs": [
    {
     "name": "stdout",
     "output_type": "stream",
     "text": [
      "Answer(b):\n",
      "word: Yeargin count: 37 POS: NNP\n",
      "word: ringers count: 21 POS: NNS\n",
      "word: Scoring count: 13 POS: NNP\n"
     ]
    }
   ],
   "source": [
    "unseen_tokens = {x:dev_tokens[x] for x in unseen}\n",
    "sorted_unseen = sorted(unseen_tokens.items(), key=lambda x:x[1][1],reverse=True)\n",
    "print 'Answer(b):'\n",
    "for i in range(3):\n",
    "    print 'word:',sorted_unseen[i][0],'count:',sorted_unseen[i][1][1],'POS:',sorted_unseen[i][1][0]"
   ]
  },
  {
   "cell_type": "code",
   "execution_count": null,
   "metadata": {
    "collapsed": true
   },
   "outputs": [],
   "source": []
  }
 ],
 "metadata": {
  "anaconda-cloud": {},
  "kernelspec": {
   "display_name": "Python 2",
   "language": "python",
   "name": "python2"
  },
  "language_info": {
   "codemirror_mode": {
    "name": "ipython",
    "version": 2
   },
   "file_extension": ".py",
   "mimetype": "text/x-python",
   "name": "python",
   "nbconvert_exporter": "python",
   "pygments_lexer": "ipython2",
   "version": "2.7.11"
  }
 },
 "nbformat": 4,
 "nbformat_minor": 1
}
