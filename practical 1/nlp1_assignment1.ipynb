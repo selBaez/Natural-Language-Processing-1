{
 "cells": [
  {
   "cell_type": "markdown",
   "metadata": {},
   "source": [
    "# Assignment 1\n",
    "\n",
    "This exercise is meant to help you get familiar with some language data. \n",
    "\n",
    "The corpus used is the **Penn Treebank**, which is a collection of data from the newspaper \n",
    "The Wall Street Journal. The exercise will not take more than a few lines of code; the idea is to examine the data, and notice interesting properties.\n",
    "\n",
    "## Required software\n",
    "\n",
    "### Easy installation\n",
    "\n",
    "The easiest way to get the required software is to install Anaconda. See https://www.continuum.io/downloads . It contains all required packages, including python and jupyter. You can choose python 2.7 or 3.5.\n",
    "\n",
    "### Manual installation\n",
    "\n",
    "Make sure that you have `numpy` and `matplotlib` installed. If you don't, you can use e.g. `pip install <package> --user` (python2) or `pip3 install <package> --user` (python3).\n",
    "\n",
    "## Submission\n",
    "We will grade your assignments with pass/fail/good, so don't forget to hand them in! \n",
    "Choose `File->Download as->HTML` and check if the HTML-file contains all your answers. You can work and submit in pairs. Please e-mail your TA with `\"[NLP1] Assignment 1\"` as the subject. \n",
    "**The deadline for submission is Sunday 6 nov 23:59.**\n",
    "\n",
    "## Start the notebook\n",
    "\n",
    "Start a terminal, and `cd` into the directory where you saved the notebook. Then type `jupyter notebook`. Your web browser will open."
   ]
  },
  {
   "cell_type": "markdown",
   "metadata": {},
   "source": [
    "## Exercise 1.1"
   ]
  },
  {
   "cell_type": "markdown",
   "metadata": {},
   "source": [
    "You are provided with a corpus containing words and their Part-of-speech tags in the format is\n",
    "**word|POS** (one sentence per line) (file name : **sec02-21.gold.tagged**). This data is extracted from Sections 02-21 from the Penn Treebank: these sections are most commonly used for training statistical models (like POS-taggers and parsers)."
   ]
  },
  {
   "cell_type": "markdown",
   "metadata": {},
   "source": [
    "(a) What are the total number of words (tokens) in this corpus? \n",
    "What is the number of distinct word types?\n"
   ]
  },
  {
   "cell_type": "code",
   "execution_count": 3,
   "metadata": {
    "collapsed": false
   },
   "outputs": [],
   "source": [
    "%matplotlib inline\n",
    "import matplotlib\n",
    "import numpy as np\n",
    "import matplotlib.pyplot as plt\n",
    "\n",
    "from collections import Counter"
   ]
  },
  {
   "cell_type": "code",
   "execution_count": 19,
   "metadata": {
    "collapsed": false
   },
   "outputs": [
    {
     "name": "stdout",
     "output_type": "stream",
     "text": [
      "Number of sentences:  39604\n",
      "Number of words:  929552\n",
      "Number of distinct words:  44210\n",
      "Number of distinct pos:  48\n"
     ]
    }
   ],
   "source": [
    "f = open('sec02-21.gold.tagged', 'r')\n",
    "\n",
    "n_sentences = 0\n",
    "words = []\n",
    "pos = []\n",
    "\n",
    "for SENTENCE in f:\n",
    "    n_sentences += 1\n",
    "    temp = SENTENCE.split()\n",
    "    words += (temp[i].split('|')[0] for i in range(len(temp)))\n",
    "    pos += (temp[i].split('|')[1] for i in range(len(temp)))\n",
    "    \n",
    "distinct_words = set(words)\n",
    "distinct_pos = set(pos)\n",
    "    \n",
    "print \"Number of sentences: \", n_sentences\n",
    "print \"Number of words: \", len(words)\n",
    "print \"Number of distinct words: \", len(distinct_words)\n",
    "print \"Number of distinct pos: \", len(distinct_pos)\n"
   ]
  },
  {
   "cell_type": "markdown",
   "metadata": {},
   "source": [
    "(b) Plot a graph of word frequency versus rank of a word, in this corpus. Does this corpus obey Zipf’s law?"
   ]
  },
  {
   "cell_type": "code",
   "execution_count": 20,
   "metadata": {
    "collapsed": false
   },
   "outputs": [],
   "source": [
    "corpus_words = Counter(words)"
   ]
  },
  {
   "cell_type": "markdown",
   "metadata": {},
   "source": [
    "(c) What is the 25th most common word in the corpus? How many times does it occur? What about the 50th most common word, the 100th and the 1000th?"
   ]
  },
  {
   "cell_type": "code",
   "execution_count": 21,
   "metadata": {
    "collapsed": false
   },
   "outputs": [
    {
     "name": "stdout",
     "output_type": "stream",
     "text": [
      "The 25th most common word: \n",
      "('Mr.', 4147)\n",
      "\n",
      "The 50th most common word: \n",
      "('had', 1755)\n",
      "\n",
      "The 100th most common word: \n",
      "('A', 860)\n"
     ]
    }
   ],
   "source": [
    "most_common_25 = corpus_words.most_common(25)[-1]\n",
    "most_common_50 = corpus_words.most_common(50)[-1]\n",
    "most_common_100 = corpus_words.most_common(100)[-1]\n",
    "\n",
    "print \"The 25th most common word: \\n\", most_common_25\n",
    "print \"\\nThe 50th most common word: \\n\", most_common_50\n",
    "print \"\\nThe 100th most common word: \\n\", most_common_100"
   ]
  },
  {
   "cell_type": "markdown",
   "metadata": {},
   "source": [
    "(d) How many different Part-of-speech tags are present in the corpus?"
   ]
  },
  {
   "cell_type": "code",
   "execution_count": 18,
   "metadata": {
    "collapsed": false
   },
   "outputs": [
    {
     "name": "stdout",
     "output_type": "stream",
     "text": [
      "Number of distinct pos:  48\n"
     ]
    }
   ],
   "source": [
    "print \"Number of distinct pos: \", len(distinct_pos)"
   ]
  },
  {
   "cell_type": "markdown",
   "metadata": {},
   "source": [
    "(e) Print a list of the 10 most common part-of-speech tags. Spend a few minutes trying to guess what each tag means, by looking at associated words."
   ]
  },
  {
   "cell_type": "code",
   "execution_count": 23,
   "metadata": {
    "collapsed": false
   },
   "outputs": [
    {
     "name": "stdout",
     "output_type": "stream",
     "text": [
      "The 25th most common word: \n",
      "[('NN', 132134), ('IN', 99413), ('NNP', 90711), ('DT', 82147), ('JJ', 59643), ('NNS', 59332), (',', 48314), ('.', 39252), ('CD', 36148), ('RB', 30232)]\n"
     ]
    }
   ],
   "source": [
    "corpus_pos = Counter(pos)\n",
    "\n",
    "most_common_10 = corpus_pos.most_common(10)\n",
    "\n",
    "print \"The 25th most common word: \\n\", most_common_10"
   ]
  },
  {
   "cell_type": "markdown",
   "metadata": {},
   "source": [
    "(f) Assume that the probability $P(w_1^n)$ of a sentence $w_1 \\ldots w_n$   can be calculated as follows:\n",
    "\n",
    "$$P(w_1^n) = P(w_1) \\cdot P(w_2) \\ldots P(w_n) $$\n",
    "\n",
    "The probability of a word $w_i$ can be calculated from a corpus as \n",
    "$$P(w_i) = \\frac{count (w_i)}{N}$$ where $N$ is the total number of word tokens in the corpus. \n",
    "\n",
    "What is the probability of the first two sentences in the corpus? "
   ]
  },
  {
   "cell_type": "code",
   "execution_count": null,
   "metadata": {
    "collapsed": false
   },
   "outputs": [],
   "source": []
  },
  {
   "cell_type": "markdown",
   "metadata": {},
   "source": [
    "(g) A word may have several part-of-speech tags, for example the word 'record' can be a noun or a verb. How many words do have more than one POS tag? What are the 10 most frequent combinations of POS tags?"
   ]
  },
  {
   "cell_type": "code",
   "execution_count": null,
   "metadata": {
    "collapsed": false
   },
   "outputs": [],
   "source": []
  },
  {
   "cell_type": "markdown",
   "metadata": {},
   "source": [
    "## Exercise 1.2"
   ]
  },
  {
   "cell_type": "markdown",
   "metadata": {},
   "source": [
    "You are also provided with another file called **sec00.gold.tagged**. \n",
    "Section 00 of the Penn Treebank is typically used as development data."
   ]
  },
  {
   "cell_type": "markdown",
   "metadata": {},
   "source": [
    "(a) How many unseen words are present in the development data (i.e., words that have not occurred in the training data)?"
   ]
  },
  {
   "cell_type": "code",
   "execution_count": null,
   "metadata": {
    "collapsed": false
   },
   "outputs": [],
   "source": []
  },
  {
   "cell_type": "markdown",
   "metadata": {},
   "source": [
    "(b) What are the three most common kind of unseen word (their POS tags)?"
   ]
  },
  {
   "cell_type": "code",
   "execution_count": null,
   "metadata": {
    "collapsed": false
   },
   "outputs": [],
   "source": []
  }
 ],
 "metadata": {
  "kernelspec": {
   "display_name": "Python 2",
   "language": "python",
   "name": "python2"
  },
  "language_info": {
   "codemirror_mode": {
    "name": "ipython",
    "version": 2
   },
   "file_extension": ".py",
   "mimetype": "text/x-python",
   "name": "python",
   "nbconvert_exporter": "python",
   "pygments_lexer": "ipython2",
   "version": "2.7.11"
  }
 },
 "nbformat": 4,
 "nbformat_minor": 1
}
